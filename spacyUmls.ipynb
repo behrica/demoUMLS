{
 "cells": [
  {
   "cell_type": "markdown",
   "metadata": {},
   "source": [
    "# Usage : just run all cells"
   ]
  },
  {
   "cell_type": "code",
   "execution_count": null,
   "metadata": {},
   "outputs": [],
   "source": [
    "!pip install https://s3-us-west-2.amazonaws.com/ai2-s2-scispacy/releases/v0.2.0/en_core_sci_sm-0.2.0.tar.gz"
   ]
  },
  {
   "cell_type": "code",
   "execution_count": null,
   "metadata": {},
   "outputs": [],
   "source": [
    "import pandas as pd\n",
    "import spacy\n",
    "import scispacy\n",
    "from scispacy.abbreviation import AbbreviationDetector\n",
    "from scispacy.umls_linking import UmlsEntityLinker\n",
    "\n",
    "nlp = spacy.load(\"en_core_sci_sm\")\n",
    "\n",
    "abbreviation_pipe = AbbreviationDetector(nlp)\n",
    "\n",
    "nlp.add_pipe(abbreviation_pipe)"
   ]
  },
  {
   "cell_type": "markdown",
   "metadata": {},
   "source": [
    "## The following cell might take a while to run (up to 30 minutes) !!"
   ]
  },
  {
   "cell_type": "code",
   "execution_count": null,
   "metadata": {},
   "outputs": [],
   "source": [
    "%%timeit\n",
    "\n",
    "# This line takes a while, because we have to download ~1GB of data\n",
    "# and load a large JSON file (the knowledge base). Be patient!\n",
    "# Thankfully it should be faster after the first time you use it, because\n",
    "# the downloads are cached.\n",
    "# NOTE: The resolve_abbreviations parameter is optional, and requires that\n",
    "# the AbbreviationDetector pipe has already been added to the pipeline. Adding\n",
    "# the AbbreviationDetector pipe and setting resolve_abbreviations to True means\n",
    "# that linking will only be performed on the long form of abbreviations.\n",
    "\n",
    "linker = UmlsEntityLinker(resolve_abbreviations=True)\n",
    "\n",
    "nlp.add_pipe(linker)"
   ]
  },
  {
   "cell_type": "markdown",
   "metadata": {},
   "source": [
    "## The text to annotate. Can be anything.:"
   ]
  },
  {
   "cell_type": "code",
   "execution_count": null,
   "metadata": {},
   "outputs": [],
   "source": [
    "text = \"\"\"\n",
    "Fumonisins, mycotoxins primarily produced by Fusarium verticillioides and Fusarium proliferatum, \n",
    "occur predominantly in cereal grains, especially in maize. The European Commission asked EFSA for a \n",
    "scientific opinion on the risk to animal health related to fumonisins and their modified and \n",
    "hidden forms in feed. Fumonisin B1 (FB1), FB2 and FB3 are the most common forms of fumonisins in \n",
    "feedstuffs and thus were included in the assessment. FB1, FB2 and FB3 have the same mode of action and were \n",
    "considered as having similar toxicological profile and potencies. For fumonisins, the EFSA Panel on Contaminants \n",
    "in the Food Chain (CONTAM) identified no‐observed‐adverse‐effect levels (NOAELs) for cattle, pig, \n",
    "poultry (chicken, ducks and turkeys), horse, and lowest‐observed‐adverse‐effect levels (LOAELs) for \n",
    "fish (extrapolated from carp) and rabbits. No reference points could be identified for sheep, goats, dogs, \n",
    "cats and mink. The dietary exposure was estimated on 18,140 feed samples on FB1–3 representing most of the \n",
    "feed commodities with potential presence of fumonisins. Samples were collected between 2003 and 2016 from 19 \n",
    "different European countries, but most of them from four Member States. To take into account the possible \n",
    "occurrence of hidden forms, an additional factor of 1.6, derived from the literature, was applied to the \n",
    "occurrence data. Modified forms of fumonisins, for which no data were identified concerning both the occurrence \n",
    "and the toxicity, were not included in the assessment. Based on mean exposure estimates, the risk of adverse \n",
    "health effects of feeds containing FB1–3 was considered very low for ruminants, low for poultry, horse, rabbits, \n",
    "fish and of potential concern for pigs. The same conclusions apply to the sum of FB1–3 and their hidden forms, \n",
    "except for pigs for which the risk of adverse health effect was considered of concern.\n",
    "\"\"\"\n",
    "doc = nlp(text)\n",
    "\n",
    "print(list(doc.sents))"
   ]
  },
  {
   "cell_type": "markdown",
   "metadata": {},
   "source": [
    "## extract all \"entities\" from text\n",
    "\n",
    "This  just annotates \"entities\" as a single type, \"entity\""
   ]
  },
  {
   "cell_type": "code",
   "execution_count": null,
   "metadata": {},
   "outputs": [],
   "source": [
    "entities=doc.ents\n",
    "index = range(len(entities))\n",
    "entities_df=pd.DataFrame(data={'index':index,'entities':entities})\n",
    "entities_df.head(50)"
   ]
  },
  {
   "cell_type": "markdown",
   "metadata": {},
   "source": [
    "## show all UMLS annotation per entity"
   ]
  },
  {
   "cell_type": "code",
   "execution_count": null,
   "metadata": {},
   "outputs": [],
   "source": [
    "## This take some seconds to run ....\n",
    "\n",
    "\n",
    "enity_id_to_inspect = 46  # (use any index from above table)\n",
    "\n",
    "\n",
    "entity = doc.ents[enity_id_to_inspect]\n",
    "\n",
    "print(\"Name: \", entity)\n",
    "\n",
    "# Each entity is linked to UMLS with a score\n",
    "# (currently just char-3gram matching).\n",
    "for umls_ent in entity._.umls_ents:\n",
    "\tprint(linker.umls.cui_to_entity[umls_ent[0]])\n",
    "\t\n"
   ]
  },
  {
   "cell_type": "code",
   "execution_count": null,
   "metadata": {},
   "outputs": [],
   "source": []
  },
  {
   "cell_type": "code",
   "execution_count": null,
   "metadata": {},
   "outputs": [],
   "source": [
    "from spacy import displacy\n",
    "displacy.render(doc, style='ent', jupyter=True)"
   ]
  },
  {
   "cell_type": "code",
   "execution_count": null,
   "metadata": {},
   "outputs": [],
   "source": []
  }
 ],
 "metadata": {
  "kernelspec": {
   "display_name": "Python 3",
   "language": "python",
   "name": "python3"
  },
  "language_info": {
   "codemirror_mode": {
    "name": "ipython",
    "version": 3
   },
   "file_extension": ".py",
   "mimetype": "text/x-python",
   "name": "python",
   "nbconvert_exporter": "python",
   "pygments_lexer": "ipython3",
   "version": "3.6.8"
  }
 },
 "nbformat": 4,
 "nbformat_minor": 2
}
